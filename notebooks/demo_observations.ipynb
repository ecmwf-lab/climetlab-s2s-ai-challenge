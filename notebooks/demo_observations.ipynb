{
 "cells": [
  {
   "cell_type": "code",
   "execution_count": null,
   "metadata": {
    "ExecuteTime": {
     "end_time": "2021-03-08T12:51:50.883656Z",
     "start_time": "2021-03-08T12:51:50.881555Z"
    }
   },
   "outputs": [],
   "source": [
    "#! pip install -U climetlab --quiet\n",
    "#! pip install -U climetlab_s2s_ai_challenge --quiet"
   ]
  },
  {
   "cell_type": "code",
   "execution_count": 2,
   "metadata": {
    "ExecuteTime": {
     "end_time": "2021-03-08T12:51:51.541510Z",
     "start_time": "2021-03-08T12:51:51.536658Z"
    },
    "scrolled": true
   },
   "outputs": [
    {
     "name": "stdout",
     "output_type": "stream",
     "text": [
      "Climetlab version : 0.7.4\n",
      "Climetlab-s2s-ai-challenge plugin version : 0.6.7\n"
     ]
    }
   ],
   "source": [
    "import climetlab as cml\n",
    "\n",
    "import climetlab_s2s_ai_challenge\n",
    "print(f'Climetlab version : {cml.__version__}')\n",
    "print(f'Climetlab-s2s-ai-challenge plugin version : {climetlab_s2s_ai_challenge.__version__}')"
   ]
  },
  {
   "cell_type": "markdown",
   "metadata": {},
   "source": [
    "# Observations data from training"
   ]
  },
  {
   "cell_type": "markdown",
   "metadata": {},
   "source": [
    "Climetlab provides the observation datasets. They can be used as a xarray.Dataset :"
   ]
  },
  {
   "cell_type": "code",
   "execution_count": 3,
   "metadata": {},
   "outputs": [
    {
     "name": "stdout",
     "output_type": "stream",
     "text": [
      "By downloading data from this dataset, you agree to the terms and conditions defined at https://apps.ecmwf.int/datasets/data/s2s/licence/. If you do not agree with such terms, do not download the data.  This dataset has been dowloaded from IRIDL. By downloading this data you also agree to the terms and conditions defined at https://iridl.ldeo.columbia.edu.\n"
     ]
    },
    {
     "name": "stderr",
     "output_type": "stream",
     "text": [
      "100%|██████████| 1/1 [00:00<00:00, 610.17it/s]\n"
     ]
    },
    {
     "data": {
      "text/plain": [
       "Coordinates:\n",
       "    valid_time     (lead_time, forecast_time) datetime64[ns] dask.array<chunksize=(47, 20), meta=np.ndarray>\n",
       "  * latitude       (latitude) float64 90.0 88.5 87.0 85.5 ... -87.0 -88.5 -90.0\n",
       "  * longitude      (longitude) float64 0.0 1.5 3.0 4.5 ... 355.5 357.0 358.5\n",
       "  * forecast_time  (forecast_time) datetime64[ns] 2000-01-02 ... 2019-01-02\n",
       "  * lead_time      (lead_time) timedelta64[ns] 0 days 1 days ... 45 days 46 days"
      ]
     },
     "execution_count": 3,
     "metadata": {},
     "output_type": "execute_result"
    }
   ],
   "source": [
    "cmlds = cml.load_dataset(\"s2s-ai-challenge-training-output-reference\",\n",
    "                         date = 20200102,\n",
    "                         parameter='t2m'                         \n",
    "                       )\n",
    "cmlds.to_xarray().coords"
   ]
  },
  {
   "cell_type": "markdown",
   "metadata": {},
   "source": [
    "# Observations data like forecast data\n",
    "\n",
    "The hindcast `training-input` for `origin='ncep'` is only available from `forecast_time` 1999 - 2010."
   ]
  },
  {
   "cell_type": "code",
   "execution_count": 5,
   "metadata": {},
   "outputs": [
    {
     "name": "stderr",
     "output_type": "stream",
     "text": [
      "100%|██████████| 1/1 [00:00<00:00, 153.35it/s]\n"
     ]
    },
    {
     "name": "stdout",
     "output_type": "stream",
     "text": [
      "By downloading data from this dataset, you agree to the terms and conditions defined at https://apps.ecmwf.int/datasets/data/s2s/licence/. If you do not agree with such terms, do not download the data. \n"
     ]
    },
    {
     "data": {
      "text/plain": [
       "Coordinates:\n",
       "  * realization    (realization) int64 0 1 2 3\n",
       "  * forecast_time  (forecast_time) datetime64[ns] 1999-01-07 ... 2010-01-07\n",
       "  * lead_time      (lead_time) timedelta64[ns] 1 days 2 days ... 43 days 44 days\n",
       "  * latitude       (latitude) float64 90.0 88.5 87.0 85.5 ... -87.0 -88.5 -90.0\n",
       "  * longitude      (longitude) float64 0.0 1.5 3.0 4.5 ... 355.5 357.0 358.5\n",
       "    valid_time     (forecast_time, lead_time) datetime64[ns] dask.array<chunksize=(12, 44), meta=np.ndarray>"
      ]
     },
     "execution_count": 5,
     "metadata": {},
     "output_type": "execute_result"
    }
   ],
   "source": [
    "forecast = cml.load_dataset('s2s-ai-challenge-training-input',\n",
    "    date=[20100107], origin='ncep', parameter='tp',\n",
    "    format='netcdf').to_xarray()\n",
    "forecast.coords"
   ]
  },
  {
   "cell_type": "markdown",
   "metadata": {},
   "source": [
    "Download `observations` for precipitation flux `pr` (also works for 2m-temperature `t2m`) with a `time` dimension.\n",
    "Use `climetlab_s2s_ai_challenge.extra.forecast_like_observations` to convert like a forecast, which converts `pr` to total precipitation `tp`."
   ]
  },
  {
   "cell_type": "code",
   "execution_count": 6,
   "metadata": {},
   "outputs": [
    {
     "name": "stderr",
     "output_type": "stream",
     "text": [
      "100%|██████████| 2/2 [00:00<00:00, 331.40it/s]\n"
     ]
    },
    {
     "name": "stdout",
     "output_type": "stream",
     "text": [
      "By downloading data from this dataset, you agree to the terms and conditions defined at https://apps.ecmwf.int/datasets/data/s2s/licence/. If you do not agree with such terms, do not download the data.  This dataset has been dowloaded from IRIDL. By downloading this data you also agree to the terms and conditions defined at https://iridl.ldeo.columbia.edu.\n"
     ]
    },
    {
     "data": {
      "text/plain": [
       "Coordinates:\n",
       "    valid_time     (forecast_time, lead_time) datetime64[ns] 1999-01-08 ... 2...\n",
       "  * latitude       (latitude) float64 90.0 88.5 87.0 85.5 ... -87.0 -88.5 -90.0\n",
       "  * longitude      (longitude) float64 0.0 1.5 3.0 4.5 ... 355.5 357.0 358.5\n",
       "  * forecast_time  (forecast_time) datetime64[ns] 1999-01-07 ... 2010-01-07\n",
       "  * lead_time      (lead_time) timedelta64[ns] 1 days 2 days ... 43 days 44 days"
      ]
     },
     "execution_count": 6,
     "metadata": {},
     "output_type": "execute_result"
    }
   ],
   "source": [
    "obs_ds = cml.load_dataset('s2s-ai-challenge-observations', parameter=['pr']).to_xarray()\n",
    "from climetlab_s2s_ai_challenge.extra import forecast_like_observations\n",
    "obs_lead_time_forecast_time = forecast_like_observations(forecast, obs_ds)\n",
    "obs_lead_time_forecast_time.coords"
   ]
  },
  {
   "cell_type": "markdown",
   "metadata": {},
   "source": [
    "This is equivalent to `.to_xarray(like=forecast)`."
   ]
  },
  {
   "cell_type": "code",
   "execution_count": 7,
   "metadata": {},
   "outputs": [
    {
     "name": "stderr",
     "output_type": "stream",
     "text": [
      "100%|██████████| 2/2 [00:00<00:00, 451.49it/s]\n"
     ]
    }
   ],
   "source": [
    "obs_like = cml.load_dataset('s2s-ai-challenge-observations', parameter=['pr']).to_xarray(like=forecast)"
   ]
  },
  {
   "cell_type": "code",
   "execution_count": 8,
   "metadata": {},
   "outputs": [],
   "source": [
    "import xarray\n",
    "xarray.testing.assert_equal(obs_like, obs_lead_time_forecast_time)"
   ]
  },
  {
   "cell_type": "markdown",
   "metadata": {},
   "source": [
    "> Note that you can use this with any initialized forecast `xr.Dataset` with coordinate `valid_time(forecast_time, lead_time)`,\n",
    "> i.e. any initialized NMME, SubX or S2S output"
   ]
  },
  {
   "cell_type": "code",
   "execution_count": null,
   "metadata": {},
   "outputs": [],
   "source": []
  }
 ],
 "metadata": {
  "kernelspec": {
   "display_name": "Python 3",
   "language": "python",
   "name": "python3"
  },
  "language_info": {
   "codemirror_mode": {
    "name": "ipython",
    "version": 3
   },
   "file_extension": ".py",
   "mimetype": "text/x-python",
   "name": "python",
   "nbconvert_exporter": "python",
   "pygments_lexer": "ipython3",
   "version": "3.7.10"
  },
  "toc": {
   "base_numbering": 1,
   "nav_menu": {},
   "number_sections": true,
   "sideBar": true,
   "skip_h1_title": false,
   "title_cell": "Table of Contents",
   "title_sidebar": "Contents",
   "toc_cell": false,
   "toc_position": {
    "height": "calc(100% - 180px)",
    "left": "10px",
    "top": "150px",
    "width": "378.4px"
   },
   "toc_section_display": true,
   "toc_window_display": true
  }
 },
 "nbformat": 4,
 "nbformat_minor": 4
}
