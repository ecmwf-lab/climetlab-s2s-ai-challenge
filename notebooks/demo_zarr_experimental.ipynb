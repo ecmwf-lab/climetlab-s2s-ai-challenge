{
 "cells": [
  {
   "cell_type": "code",
   "execution_count": 1,
   "metadata": {
    "ExecuteTime": {
     "end_time": "2021-03-08T13:24:37.469229Z",
     "start_time": "2021-03-08T13:24:37.466666Z"
    },
    "scrolled": true
   },
   "outputs": [],
   "source": [
    "#! pip install climetlab_s2s_ai_challenge --quiet"
   ]
  },
  {
   "cell_type": "code",
   "execution_count": 2,
   "metadata": {
    "ExecuteTime": {
     "end_time": "2021-03-08T13:24:38.159473Z",
     "start_time": "2021-03-08T13:24:38.088436Z"
    },
    "scrolled": true
   },
   "outputs": [
    {
     "name": "stdout",
     "output_type": "stream",
     "text": [
      "Climetlab version : 0.7.4\n",
      "Climetlab-s2s-ai-challenge plugin version : 0.6.7\n"
     ]
    }
   ],
   "source": [
    "import climetlab as cml\n",
    "import xarray as xr\n",
    "xr.set_options(display_style='text')\n",
    "\n",
    "import climetlab_s2s_ai_challenge\n",
    "print(f'Climetlab version : {cml.__version__}')\n",
    "print(f'Climetlab-s2s-ai-challenge plugin version : {climetlab_s2s_ai_challenge.__version__}')"
   ]
  },
  {
   "cell_type": "markdown",
   "metadata": {},
   "source": [
    "# Using Zarr data"
   ]
  },
  {
   "cell_type": "markdown",
   "metadata": {},
   "source": [
    "Let us get the zarr pointer to the cloud data."
   ]
  },
  {
   "cell_type": "markdown",
   "metadata": {},
   "source": [
    "# hindcast"
   ]
  },
  {
   "cell_type": "code",
   "execution_count": 3,
   "metadata": {
    "ExecuteTime": {
     "end_time": "2021-03-08T13:24:56.865551Z",
     "start_time": "2021-03-08T13:24:38.223140Z"
    }
   },
   "outputs": [
    {
     "name": "stdout",
     "output_type": "stream",
     "text": [
      "By downloading data from this dataset, you agree to the terms and conditions defined at https://apps.ecmwf.int/datasets/data/s2s/licence/. If you do not agree with such terms, do not download the data. \n"
     ]
    },
    {
     "name": "stderr",
     "output_type": "stream",
     "text": [
      "/Users/aaron.spring/anaconda3/envs/climetlab/lib/python3.7/site-packages/xarray/core/dataset.py:413: UserWarning: Specified Dask chunks (5, 5, 5, 5, 5, 5, 5, 5, 5, 5, 3) would separate on disks chunk shape 10 for dimension forecast_time. This could degrade performance. Consider rechunking after loading instead.\n",
      "  _check_chunks_compatibility(var, output_chunks, preferred_chunks)\n",
      "/Users/aaron.spring/anaconda3/envs/climetlab/lib/python3.7/site-packages/xarray/core/dataset.py:413: UserWarning: Specified Dask chunks (120, 120) would separate on disks chunk shape 240 for dimension longitude. This could degrade performance. Consider rechunking after loading instead.\n",
      "  _check_chunks_compatibility(var, output_chunks, preferred_chunks)\n"
     ]
    },
    {
     "data": {
      "text/plain": [
       "Coordinates:\n",
       "  * forecast_time  (forecast_time) datetime64[ns] 2000-01-02 ... 2012-01-16\n",
       "  * latitude       (latitude) float64 90.0 88.5 87.0 85.5 ... -87.0 -88.5 -90.0\n",
       "  * lead_time      (lead_time) timedelta64[ns] 0 days 1 days ... 45 days 46 days\n",
       "  * longitude      (longitude) float64 0.0 1.5 3.0 4.5 ... 355.5 357.0 358.5\n",
       "  * realization    (realization) int64 0 1 2 3 4 5 6 7 8 9 10\n",
       "    valid_time     (forecast_time, lead_time) datetime64[ns] dask.array<chunksize=(53, 47), meta=np.ndarray>"
      ]
     },
     "execution_count": 3,
     "metadata": {},
     "output_type": "execute_result"
    }
   ],
   "source": [
    "hindcast = cml.load_dataset(\"s2s-ai-challenge-training-input\",\n",
    "                         origin='ecmwf',\n",
    "                         parameter='tp',\n",
    "                         format='zarr').to_xarray()\n",
    "\n",
    "hindcast.coords"
   ]
  },
  {
   "cell_type": "markdown",
   "metadata": {},
   "source": [
    "# forecast"
   ]
  },
  {
   "cell_type": "code",
   "execution_count": 4,
   "metadata": {
    "ExecuteTime": {
     "start_time": "2021-03-08T13:24:36.784Z"
    },
    "scrolled": true
   },
   "outputs": [
    {
     "name": "stdout",
     "output_type": "stream",
     "text": [
      "By downloading data from this dataset, you agree to the terms and conditions defined at https://apps.ecmwf.int/datasets/data/s2s/licence/. If you do not agree with such terms, do not download the data. \n"
     ]
    },
    {
     "data": {
      "text/html": [
       "<pre>&lt;xarray.Dataset&gt;\n",
       "Dimensions:        (forecast_time: 53, latitude: 121, lead_time: 47, longitude: 240, realization: 51)\n",
       "Coordinates:\n",
       "  * forecast_time  (forecast_time) datetime64[ns] 2020-01-02 ... 2020-12-31\n",
       "  * latitude       (latitude) float64 90.0 88.5 87.0 85.5 ... -87.0 -88.5 -90.0\n",
       "  * lead_time      (lead_time) timedelta64[ns] 0 days 1 days ... 45 days 46 days\n",
       "  * longitude      (longitude) float64 0.0 1.5 3.0 4.5 ... 355.5 357.0 358.5\n",
       "  * realization    (realization) int64 0 1 2 3 4 5 6 7 ... 44 45 46 47 48 49 50\n",
       "    valid_time     (forecast_time, lead_time) datetime64[ns] dask.array&lt;chunksize=(53, 47), meta=np.ndarray&gt;\n",
       "Data variables:\n",
       "    tp             (realization, forecast_time, lead_time, latitude, longitude) float32 dask.array&lt;chunksize=(6, 2, 47, 121, 240), meta=np.ndarray&gt;\n",
       "Attributes:\n",
       "    Conventions:             CF-1.7\n",
       "    GRIB_centre:             ecmf\n",
       "    GRIB_centreDescription:  European Centre for Medium-Range Weather Forecasts\n",
       "    GRIB_edition:            2\n",
       "    GRIB_subCentre:          0\n",
       "    history:                 2021-05-10T15:46:13 GRIB to CDM+CF via cfgrib-0....\n",
       "    institution:             European Centre for Medium-Range Weather Forecasts</pre>"
      ],
      "text/plain": [
       "<xarray.Dataset>\n",
       "Dimensions:        (forecast_time: 53, latitude: 121, lead_time: 47, longitude: 240, realization: 51)\n",
       "Coordinates:\n",
       "  * forecast_time  (forecast_time) datetime64[ns] 2020-01-02 ... 2020-12-31\n",
       "  * latitude       (latitude) float64 90.0 88.5 87.0 85.5 ... -87.0 -88.5 -90.0\n",
       "  * lead_time      (lead_time) timedelta64[ns] 0 days 1 days ... 45 days 46 days\n",
       "  * longitude      (longitude) float64 0.0 1.5 3.0 4.5 ... 355.5 357.0 358.5\n",
       "  * realization    (realization) int64 0 1 2 3 4 5 6 7 ... 44 45 46 47 48 49 50\n",
       "    valid_time     (forecast_time, lead_time) datetime64[ns] dask.array<chunksize=(53, 47), meta=np.ndarray>\n",
       "Data variables:\n",
       "    tp             (realization, forecast_time, lead_time, latitude, longitude) float32 dask.array<chunksize=(6, 2, 47, 121, 240), meta=np.ndarray>\n",
       "Attributes:\n",
       "    Conventions:             CF-1.7\n",
       "    GRIB_centre:             ecmf\n",
       "    GRIB_centreDescription:  European Centre for Medium-Range Weather Forecasts\n",
       "    GRIB_edition:            2\n",
       "    GRIB_subCentre:          0\n",
       "    history:                 2021-05-10T15:46:13 GRIB to CDM+CF via cfgrib-0....\n",
       "    institution:             European Centre for Medium-Range Weather Forecasts"
      ]
     },
     "execution_count": 4,
     "metadata": {},
     "output_type": "execute_result"
    }
   ],
   "source": [
    "forecast = cml.load_dataset(\"s2s-ai-challenge-test-input\",\n",
    "                         origin='ecmwf',\n",
    "                         parameter=['tp'],\n",
    "                         format='zarr').to_xarray()\n",
    "\n",
    "forecast"
   ]
  },
  {
   "cell_type": "code",
   "execution_count": null,
   "metadata": {},
   "outputs": [],
   "source": []
  }
 ],
 "metadata": {
  "kernelspec": {
   "display_name": "Python 3",
   "language": "python",
   "name": "python3"
  },
  "language_info": {
   "codemirror_mode": {
    "name": "ipython",
    "version": 3
   },
   "file_extension": ".py",
   "mimetype": "text/x-python",
   "name": "python",
   "nbconvert_exporter": "python",
   "pygments_lexer": "ipython3",
   "version": "3.7.10"
  },
  "toc": {
   "base_numbering": 1,
   "nav_menu": {},
   "number_sections": true,
   "sideBar": true,
   "skip_h1_title": false,
   "title_cell": "Table of Contents",
   "title_sidebar": "Contents",
   "toc_cell": false,
   "toc_position": {
    "height": "calc(100% - 180px)",
    "left": "10px",
    "top": "150px",
    "width": "378.4px"
   },
   "toc_section_display": true,
   "toc_window_display": true
  }
 },
 "nbformat": 4,
 "nbformat_minor": 4
}
